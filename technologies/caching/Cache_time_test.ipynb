{
 "cells": [
  {
   "cell_type": "code",
   "execution_count": 1,
   "id": "fecfbabd",
   "metadata": {},
   "outputs": [
    {
     "name": "stdout",
     "output_type": "stream",
     "text": [
      "Logging hadn't been started.\n",
      "Activating auto-logging. Current session state plus future input saved.\n",
      "Filename       : C:\\Users\\a-davidpoole\\.qcodes\\logs\\command_history.log\n",
      "Mode           : append\n",
      "Output logging : True\n",
      "Raw input log  : False\n",
      "Timestamping   : True\n",
      "State          : active\n",
      "Qcodes Logfile : C:\\Users\\a-davidpoole\\.qcodes\\logs\\211116-16932-qcodes.log\n"
     ]
    }
   ],
   "source": [
    "#Imports\n",
    "\n",
    "import os\n",
    "import time\n",
    "import tqdm\n",
    "import numpy as np\n",
    "import qcodes as qc\n",
    "from qcodes.utils.dataset.doNd import do1d, do2d, dond, plot, LinSweep, LogSweep\n",
    "from qcodes.dataset.descriptions.detect_shapes import detect_shape_of_measurement\n",
    "from qcodes.tests.instrument_mocks import DummyInstrument, DummyInstrumentWithMeasurement\n",
    "\n",
    "\n",
    "from qcodes.dataset import (\n",
    "    load_or_create_experiment,\n",
    "    load_by_guid,\n",
    "    load_by_run_spec,\n",
    "    initialise_or_create_database_at,\n",
    "    Measurement,\n",
    "    DataSetType,\n",
    ")\n",
    "from qcodes.tests.instrument_mocks import (\n",
    "    DummyInstrument,\n",
    "    DummyInstrumentWithMeasurement,\n",
    ")\n",
    "from qcodes.dataset.plotting import plot_dataset\n"
   ]
  },
  {
   "cell_type": "code",
   "execution_count": 2,
   "id": "5dc4bb12",
   "metadata": {},
   "outputs": [],
   "source": [
    "#Set up local database\n",
    "\n",
    "testing_db_path = os.path.join(os.getcwd(), 'local.db')\n",
    "initialise_or_create_database_at(testing_db_path)"
   ]
  },
  {
   "cell_type": "code",
   "execution_count": 3,
   "id": "64cca5d7",
   "metadata": {},
   "outputs": [],
   "source": [
    "\n",
    "# preparatory mocking of physical setup\n",
    "dac = DummyInstrument('dac', gates=['ch1', 'ch2'])\n",
    "dmm = DummyInstrumentWithMeasurement('dmm', setter_instr=dac)\n"
   ]
  },
  {
   "cell_type": "code",
   "execution_count": 4,
   "id": "93b9a581",
   "metadata": {},
   "outputs": [
    {
     "data": {
      "text/plain": [
       "<qcodes.dataset.measurements.Measurement at 0x21a44e3a0a0>"
      ]
     },
     "execution_count": 4,
     "metadata": {},
     "output_type": "execute_result"
    }
   ],
   "source": [
    "\n",
    "# Setting up Measurement\n",
    "testing_exp = load_or_create_experiment('loop_1', sample_name='no sample')\n",
    "\n",
    "#Setting up measuremetn without shape\n",
    "meas = Measurement(name= 'simple meas', exp=testing_exp)\n",
    "meas.register_parameter(dac.ch1)\n",
    "meas.register_parameter(dac.ch2)\n",
    "meas.register_parameter(dmm.v1, setpoints=(dac.ch1,dac.ch2))\n",
    "meas.register_parameter(dmm.v2, setpoints=(dac.ch1,dac.ch2))\n",
    "\n",
    "#Setting Up measurement with shapes\n",
    "meas_with_shape = Measurement(exp=testing_exp, name='shape meas')\n",
    "meas_with_shape.register_parameter(dac.ch1)  # register the first independent parameter\n",
    "meas_with_shape.register_parameter(dac.ch2)  # register the second independent parameter\n",
    "meas_with_shape.register_parameter(dmm.v1, setpoints=(dac.ch1, dac.ch2))  # now register the dependent oone\n",
    "meas_with_shape.register_parameter(dmm.v2, setpoints=(dac.ch1, dac.ch2))  # now register the dependent oone\n",
    "\n"
   ]
  },
  {
   "cell_type": "code",
   "execution_count": 5,
   "id": "72fe8350",
   "metadata": {},
   "outputs": [],
   "source": [
    "#Setting up dataset sizes.\n",
    "size_a = 500\n",
    "size_b = 200\n",
    "size_n = 1"
   ]
  },
  {
   "cell_type": "code",
   "execution_count": 6,
   "id": "1f1c9f0c",
   "metadata": {},
   "outputs": [
    {
     "name": "stderr",
     "output_type": "stream",
     "text": [
      "2021-11-16 12:48:15,394 ¦ py.warnings ¦ WARNING ¦ warnings ¦ _showwarnmsg ¦ 109 ¦ C:\\Users\\A-DAVI~1\\AppData\\Local\\Temp/ipykernel_16932/616408506.py:4: TqdmDeprecationWarning: This function will be removed in tqdm==5.0.0\n",
      "Please use `tqdm.notebook.tqdm` instead of `tqdm.tqdm_notebook`\n",
      "  bar = tqdm.tqdm_notebook(total=size_a*size_b*size_n)\n",
      "\n"
     ]
    },
    {
     "data": {
      "application/vnd.jupyter.widget-view+json": {
       "model_id": "006903de905e400caf8b800ddf2f94fe",
       "version_major": 2,
       "version_minor": 0
      },
      "text/plain": [
       "  0%|          | 0/100000 [00:00<?, ?it/s]"
      ]
     },
     "metadata": {},
     "output_type": "display_data"
    },
    {
     "name": "stdout",
     "output_type": "stream",
     "text": [
      "Starting experimental run with id: 2. \n",
      "0.720519733000016\n"
     ]
    }
   ],
   "source": [
    "#Measurement with context manager with cache\n",
    "t_a = []\n",
    "\n",
    "bar = tqdm.tqdm_notebook(total=size_a*size_b*size_n)\n",
    "\n",
    "for _ in range(size_n):\n",
    "    with meas.run() as datasaver:\n",
    "        for dac1_sweep in np.linspace(-1, 1, size_a): # sweep points over channel 1\n",
    "            dac.ch1(dac1_sweep)\n",
    "            t = []\n",
    "            for dac2_sweep in np.linspace(-1, 1, size_b): # sweep points over channel 2\n",
    "                dac.ch2(dac2_sweep)\n",
    "                t0 = time.perf_counter()\n",
    "                datasaver.add_result(\n",
    "                    (dac.ch1, dac.ch1()),\n",
    "                    (dac.ch2, dac.ch2()),\n",
    "                    (dmm.v1, dmm.v1()),\n",
    "                    (dmm.v2, dmm.v2())\n",
    "                    )\n",
    "                t1 = time.perf_counter()\n",
    "                t.append(t1-t0)\n",
    "                bar.update(1)\n",
    "            t_a.append(sum(t)/len(t)*1000)\n",
    "        dataset2 = datasaver.dataset\n",
    "\n",
    "print(sum(t_a)/len(t_a))"
   ]
  },
  {
   "cell_type": "code",
   "execution_count": 7,
   "id": "1e1f4390",
   "metadata": {
    "scrolled": true
   },
   "outputs": [
    {
     "name": "stderr",
     "output_type": "stream",
     "text": [
      "2021-11-16 12:49:31,643 ¦ py.warnings ¦ WARNING ¦ warnings ¦ _showwarnmsg ¦ 109 ¦ C:\\Users\\A-DAVI~1\\AppData\\Local\\Temp/ipykernel_16932/2853598699.py:4: TqdmDeprecationWarning: This function will be removed in tqdm==5.0.0\n",
      "Please use `tqdm.notebook.tqdm` instead of `tqdm.tqdm_notebook`\n",
      "  bar = tqdm.tqdm_notebook(total=size_a*size_b*size_n)\n",
      "\n"
     ]
    },
    {
     "data": {
      "application/vnd.jupyter.widget-view+json": {
       "model_id": "e30a9c1c51e549dc891755b01446a9d7",
       "version_major": 2,
       "version_minor": 0
      },
      "text/plain": [
       "  0%|          | 0/100000 [00:00<?, ?it/s]"
      ]
     },
     "metadata": {},
     "output_type": "display_data"
    },
    {
     "name": "stdout",
     "output_type": "stream",
     "text": [
      "Starting experimental run with id: 3. \n",
      "0.20882259299995254\n"
     ]
    }
   ],
   "source": [
    "#Measurement with context manager with shaped cache\n",
    "meas_with_shape.set_shapes(detect_shape_of_measurement((dmm.v1,dmm.v2), (size_a, size_b)))\n",
    "\n",
    "bar = tqdm.tqdm_notebook(total=size_a*size_b*size_n)\n",
    "\n",
    "t_b = []\n",
    "for _ in range(size_n):\n",
    "    with meas_with_shape.run() as datasaver:\n",
    "        for dac1_sweep in np.linspace(-1, 1, size_a): \n",
    "            dac.ch1(dac1_sweep)\n",
    "            t = []\n",
    "            for dac2_sweep in np.linspace(-1, 1, size_b):\n",
    "                dac.ch2(dac2_sweep)\n",
    "                t0 = time.perf_counter()\n",
    "                datasaver.add_result(\n",
    "                    (dac.ch1, dac.ch1()),\n",
    "                    (dac.ch2, dac.ch2()),\n",
    "                    (dmm.v1, dmm.v1()),\n",
    "                    (dmm.v2, dmm.v2())\n",
    "                    )\n",
    "                t1 = time.perf_counter()\n",
    "                t.append(t1-t0)\n",
    "                bar.update(1)\n",
    "            t_b.append(sum(t)/len(t)*1000)\n",
    "        dataset2 = datasaver.dataset\n",
    "print(sum(t_b)/len(t_b))\n"
   ]
  },
  {
   "cell_type": "code",
   "execution_count": 8,
   "id": "d20226f4",
   "metadata": {},
   "outputs": [
    {
     "name": "stderr",
     "output_type": "stream",
     "text": [
      "2021-11-16 12:49:55,784 ¦ py.warnings ¦ WARNING ¦ warnings ¦ _showwarnmsg ¦ 109 ¦ C:\\Users\\A-DAVI~1\\AppData\\Local\\Temp/ipykernel_16932/2863477060.py:3: TqdmDeprecationWarning: This function will be removed in tqdm==5.0.0\n",
      "Please use `tqdm.notebook.tqdm` instead of `tqdm.tqdm_notebook`\n",
      "  bar = tqdm.tqdm_notebook(total=size_a*size_b*size_n)\n",
      "\n"
     ]
    },
    {
     "data": {
      "application/vnd.jupyter.widget-view+json": {
       "model_id": "63eb9a17ec0f46a39baa270a73396582",
       "version_major": 2,
       "version_minor": 0
      },
      "text/plain": [
       "  0%|          | 0/100000 [00:00<?, ?it/s]"
      ]
     },
     "metadata": {},
     "output_type": "display_data"
    },
    {
     "name": "stdout",
     "output_type": "stream",
     "text": [
      "Starting experimental run with id: 4. \n",
      "0.12274790000001332\n"
     ]
    }
   ],
   "source": [
    "#Measurement with context manager without cache\n",
    "t_c = []\n",
    "bar = tqdm.tqdm_notebook(total=size_a*size_b*size_n)\n",
    "\n",
    "for _ in range(size_n):\n",
    "    with meas.run(in_memory_cache=False) as datasaver:\n",
    "        for dac1_sweep in np.linspace(-1, 1, size_a): \n",
    "            dac.ch1(dac1_sweep)\n",
    "            t = []\n",
    "            for dac2_sweep in np.linspace(-1, 1, size_b):\n",
    "                dac.ch2(dac2_sweep)\n",
    "                #bar.update(1)\n",
    "                t0 = time.perf_counter()\n",
    "                datasaver.add_result(\n",
    "                    (dac.ch1, dac.ch1()),\n",
    "                    (dac.ch2, dac.ch2()),\n",
    "                    (dmm.v1, dmm.v1()),\n",
    "                    (dmm.v2, dmm.v2())\n",
    "                    )\n",
    "                t1 = time.perf_counter()\n",
    "                t.append(t1-t0)\n",
    "                bar.update(1)\n",
    "            t_c.append(sum(t)/len(t)*1000)\n",
    "        dataset2 = datasaver.dataset\n",
    "\n",
    "print(sum(t_c)/len(t_c))"
   ]
  },
  {
   "cell_type": "code",
   "execution_count": 9,
   "id": "0fa5716a",
   "metadata": {},
   "outputs": [
    {
     "name": "stderr",
     "output_type": "stream",
     "text": [
      "2021-11-16 12:50:10,342 ¦ py.warnings ¦ WARNING ¦ warnings ¦ _showwarnmsg ¦ 109 ¦ C:\\Users\\A-DAVI~1\\AppData\\Local\\Temp/ipykernel_16932/1923311262.py:3: TqdmDeprecationWarning: This function will be removed in tqdm==5.0.0\n",
      "Please use `tqdm.notebook.tqdm` instead of `tqdm.tqdm_notebook`\n",
      "  bar = tqdm.tqdm_notebook(total=size_a*size_b*size_n)\n",
      "\n"
     ]
    },
    {
     "data": {
      "application/vnd.jupyter.widget-view+json": {
       "model_id": "c448a14bb70544db8d70501c2d5799b7",
       "version_major": 2,
       "version_minor": 0
      },
      "text/plain": [
       "  0%|          | 0/100000 [00:00<?, ?it/s]"
      ]
     },
     "metadata": {},
     "output_type": "display_data"
    },
    {
     "name": "stdout",
     "output_type": "stream",
     "text": [
      "Starting experimental run with id: 5. \n",
      "0.40481991599998185\n"
     ]
    }
   ],
   "source": [
    "#Measurement with context manager with cache, dataset in memory.\n",
    "t_d = []\n",
    "bar = tqdm.tqdm_notebook(total=size_a*size_b*size_n)\n",
    "\n",
    "for _ in range(size_n):\n",
    "    with meas.run(dataset_class=DataSetType.DataSetInMem) as datasaver:\n",
    "        for dac1_sweep in np.linspace(-1, 1, size_a): \n",
    "            dac.ch1(dac1_sweep)\n",
    "            t = []\n",
    "            for dac2_sweep in np.linspace(-1, 1, size_b): \n",
    "                dac.ch2(dac2_sweep)\n",
    "                #bar.update(1)\n",
    "                t0 = time.perf_counter()\n",
    "                datasaver.add_result(\n",
    "                    (dac.ch1, dac.ch1()),\n",
    "                    (dac.ch2, dac.ch2()),\n",
    "                    (dmm.v1, dmm.v1()),\n",
    "                    (dmm.v2, dmm.v2())\n",
    "                    )\n",
    "                t1 = time.perf_counter()\n",
    "                t.append(t1-t0)\n",
    "                bar.update(1)\n",
    "            t_d.append(sum(t)/len(t)*1000)\n",
    "        dataset2 = datasaver.dataset\n",
    "print(sum(t_d)/len(t_d))"
   ]
  },
  {
   "cell_type": "code",
   "execution_count": 10,
   "id": "5a3111b6",
   "metadata": {},
   "outputs": [
    {
     "name": "stderr",
     "output_type": "stream",
     "text": [
      "2021-11-16 12:50:54,303 ¦ py.warnings ¦ WARNING ¦ warnings ¦ _showwarnmsg ¦ 109 ¦ C:\\Users\\A-DAVI~1\\AppData\\Local\\Temp/ipykernel_16932/1493501015.py:5: TqdmDeprecationWarning: This function will be removed in tqdm==5.0.0\n",
      "Please use `tqdm.notebook.tqdm` instead of `tqdm.tqdm_notebook`\n",
      "  bar = tqdm.tqdm_notebook(total=size_a*size_b*size_n)\n",
      "\n"
     ]
    },
    {
     "data": {
      "application/vnd.jupyter.widget-view+json": {
       "model_id": "b15a070c86154d8988a32b5fc87087e4",
       "version_major": 2,
       "version_minor": 0
      },
      "text/plain": [
       "  0%|          | 0/100000 [00:00<?, ?it/s]"
      ]
     },
     "metadata": {},
     "output_type": "display_data"
    },
    {
     "name": "stdout",
     "output_type": "stream",
     "text": [
      "Starting experimental run with id: 6. \n",
      "0.20322497200001835\n"
     ]
    }
   ],
   "source": [
    "#Measurement with context manager with shaped cache and dataset in memory\n",
    "meas_with_shape.set_shapes(detect_shape_of_measurement((dmm.v1,dmm.v2), (size_a, size_b)))\n",
    "\n",
    "t_e = []\n",
    "bar = tqdm.tqdm_notebook(total=size_a*size_b*size_n)\n",
    "\n",
    "for _ in range(size_n):\n",
    "    with meas_with_shape.run(dataset_class=DataSetType.DataSetInMem) as datasaver:\n",
    "        for dac1_sweep in np.linspace(-1, 1, size_a): \n",
    "            dac.ch1(dac1_sweep)\n",
    "            t = []\n",
    "            for dac2_sweep in np.linspace(-1, 1, size_b):\n",
    "                dac.ch2(dac2_sweep)\n",
    "                t0 = time.perf_counter()\n",
    "                datasaver.add_result(\n",
    "                    (dac.ch1, dac.ch1()),\n",
    "                    (dac.ch2, dac.ch2()),\n",
    "                    (dmm.v1, dmm.v1()),\n",
    "                    (dmm.v2, dmm.v2())\n",
    "                    )\n",
    "                t1 = time.perf_counter()\n",
    "                t.append(t1-t0)\n",
    "                bar.update(1)\n",
    "            t_e.append(sum(t)/len(t)*1000)\n",
    "        dataset2 = datasaver.dataset\n",
    "print(sum(t_e)/len(t_e))"
   ]
  },
  {
   "cell_type": "code",
   "execution_count": 11,
   "id": "75b8ccf2",
   "metadata": {},
   "outputs": [
    {
     "name": "stdout",
     "output_type": "stream",
     "text": [
      "Starting experimental run with id: 7. Using 'qcodes.utils.dataset.doNd.dond'\n",
      "0.279476989\n"
     ]
    }
   ],
   "source": [
    "#Measurement with doNd, estimated time by total dataset size\n",
    "#Bar is not included since this may add a slight delay.\n",
    "sweep_1 = LinSweep(dac.ch1, -1, 1, size_a)\n",
    "sweep_2 = LinSweep(dac.ch2, -1, 1, size_b)\n",
    "t_f = []\n",
    "for _ in range(size_n):\n",
    "    t0 = time.perf_counter()\n",
    "    dond(sweep_1, sweep_2, dmm.v1, dmm.v2, exp=testing_exp) \n",
    "    t1 = time.perf_counter()\n",
    "    t_f.append(t1-t0)\n",
    "print(sum(t_f)/len(t_f)/size_a/size_b*1000)   "
   ]
  },
  {
   "cell_type": "code",
   "execution_count": 12,
   "id": "61046b59",
   "metadata": {},
   "outputs": [
    {
     "data": {
      "image/png": "[encoded data removed]",
      "text/plain": [
       "<Figure size 432x288 with 1 Axes>"
      ]
     },
     "metadata": {
      "needs_background": "light"
     },
     "output_type": "display_data"
    }
   ],
   "source": [
    "#plotting the measurement context results in a single figure.\n",
    "import matplotlib.mlab as mlab\n",
    "import matplotlib.pyplot as plt\n",
    "\n",
    "plt.plot(t_a, '.r', label='Regular cache, disk DB') \n",
    "plt.plot(t_b, '.b', label='Shaped cache, disk DB')\n",
    "plt.plot(t_c, '.k', label='No cache, disk DB')\n",
    "plt.plot(t_d, '.m', label='Regular cache, memory only')\n",
    "plt.plot(t_e, '.g', label='Shaped cache, memory only')\n",
    "#plt.ylim(0,0.01)\n",
    "plt.ylabel('Iter time (s)') \n",
    "plt.xlabel('Iter #') \n",
    "plt.legend()\n",
    "plt.show() "
   ]
  },
  {
   "cell_type": "code",
   "execution_count": 13,
   "id": "5048cbcf",
   "metadata": {},
   "outputs": [
    {
     "data": {
      "image/png": "[encoded data removed]",
      "text/plain": [
       "<Figure size 432x288 with 1 Axes>"
      ]
     },
     "metadata": {
      "needs_background": "light"
     },
     "output_type": "display_data"
    },
    {
     "data": {
      "image/png": "[encoded data removed]",
      "text/plain": [
       "<Figure size 432x288 with 1 Axes>"
      ]
     },
     "metadata": {
      "needs_background": "light"
     },
     "output_type": "display_data"
    },
    {
     "data": {
      "image/png": "[encoded data removed]",
      "text/plain": [
       "<Figure size 432x288 with 1 Axes>"
      ]
     },
     "metadata": {
      "needs_background": "light"
     },
     "output_type": "display_data"
    },
    {
     "data": {
      "image/png": "[encoded data removed]",
      "text/plain": [
       "<Figure size 432x288 with 1 Axes>"
      ]
     },
     "metadata": {
      "needs_background": "light"
     },
     "output_type": "display_data"
    },
    {
     "data": {
      "image/png": "[encoded data removed]",
      "text/plain": [
       "<Figure size 432x288 with 1 Axes>"
      ]
     },
     "metadata": {
      "needs_background": "light"
     },
     "output_type": "display_data"
    }
   ],
   "source": [
    "#plotting the measurement context results as a histogram.\n",
    "import matplotlib.mlab as mlab\n",
    "import matplotlib.pyplot as plt\n",
    "\n",
    "plt.hist(t_a, 50, facecolor= 'r', label='Regular cache, disk DB') \n",
    "plt.ylabel('Population')\n",
    "plt.ylim(0, size_a)\n",
    "plt.xlabel('Iter time') \n",
    "plt.legend()\n",
    "plt.show() \n",
    "plt.hist(t_b, 50, facecolor= 'b', label='Shaped cache, disk DB')\n",
    "plt.ylabel('Population')\n",
    "plt.ylim(0, size_a)\n",
    "plt.xlabel('Iter time') \n",
    "plt.legend()\n",
    "plt.show() \n",
    "plt.hist(t_c, 50, facecolor= 'k', label='No cache, disk DB')\n",
    "plt.ylabel('Population')\n",
    "plt.ylim(0, size_a)\n",
    "plt.xlabel('Iter time') \n",
    "plt.legend()\n",
    "plt.show() \n",
    "plt.hist(t_d, 50, facecolor= 'm', label='Regular cache, memory only')\n",
    "plt.ylabel('Population')\n",
    "plt.ylim(0, size_a)\n",
    "plt.xlabel('Iter time') \n",
    "plt.legend()\n",
    "plt.show() \n",
    "plt.hist(t_e, 50, facecolor= 'g', label='Shaped cache, memory only')\n",
    "plt.ylabel('Population')\n",
    "plt.ylim(0, size_a)\n",
    "plt.xlabel('Iter time') \n",
    "plt.legend()\n",
    "plt.show() "
   ]
  },
  {
   "cell_type": "markdown",
   "id": "7dd72d5d",
   "metadata": {},
   "source": []
  },
  {
   "cell_type": "markdown",
   "id": "a1ab8d92",
   "metadata": {},
   "source": [
    "Intro: Cache performance is critical when working with large datasets \n",
    "    obtained from several iterations of the add_results() method. In some\n",
    "    cases successive expansions of the existing cache result in severe\n",
    "    slowing of system performance. To this end Jens has added the shaped \n",
    "    cache feature, which pre-allocates the memory for caching, avoiding the\n",
    "    intensive process of cache expansion. To demonstrate and test this new\n",
    "    feature, we have run 7 test cases to assess cache performance featuring\n",
    "    contexts without cache, with the default cache, and pre-allocated cache\n",
    "    enabled. We have also included variants which write to the regular SQLite\n",
    "    database, or keep all data in memory. Lastly, these are compared to the\n",
    "    DoNd functions which already pre-allocate cache size based on data shape.\n",
    "\n",
    "Conclusions: \n",
    "    1-  Dynamically allocated cache underperforms in all cases.\n",
    "    2-  DoNd with and without cache offer equivalent performance.\n",
    "    3-  SQLite database writes do not hinder performance.\n",
    "\n",
    "Reference:\n",
    "1 - Measurement with context manager with cache                              \n",
    "2 - Measurement with context manager with shaped cache                       \n",
    "3 - Measurement with context manager without cache                           \n",
    "4 - Measurement with context manager with cache, dataset in memory.          \n",
    "5 - Measurement with context manager with shaped cache and dataset in memory.\n",
    "6 - Measurement with doNd, iteration time estimated from total execution\n",
    "7 - Measurement with doNd (nocache) iteration time estimated from total execution\n",
    "\n",
    "Timed function: add_result() (exp 1-5), DoNd() (exp 6-7).\n",
    "'''\n",
    "|                        Results\t\t                        |\n",
    "| n\t\t| exp_1\t| exp_2\t| exp_3\t| exp_4\t| exp_5\t| exp_6*| exp_7*|\n",
    "| iter\t| ----------- avg ms iter^-1 -------------------------- |\n",
    "| 1\t\t| 0.934\t| 0.879\t| 0.321\t| 0.377\t| 0.473\t| 60.51 | 57.48 |\n",
    "| 2\t\t| 0.413\t| 0.478\t| 0.256\t| 0.496\t| 0.471\t| 45.12 | 29.89 |\n",
    "| 5\t\t| 0.418\t| 0.291\t| 0.295\t| 0.324\t| 0.488\t| 16.85 | 12.11 |\n",
    "| 10\t| 0.452\t| 0.324\t| 0.283\t| 0.491\t| 0.363\t| 7.071 | 7.071 |\n",
    "| 50\t| 0.311\t| 0.527\t| 0.309\t| 0.322\t| 0.341\t| 2.442\t| 1.532\t|\n",
    "| 100\t| 0.288\t| 0.326\t| 0.127\t| 0.317\t| 0.346\t| 1.457 | 0.753 |\n",
    "| 1000\t| 0.257\t| 0.217\t| 0.125\t| 0.209\t| 0.214\t| 0.319 | 0.269 |\n",
    "| 10000\t| 0.289\t| 0.267\t| 0.141\t| 0.227\t| 0.219\t| 0.238 | 0.238 |\n",
    "| 20000\t| 0.287\t| 0.252\t| 0.126\t| 0.262\t| 0.217\t| 0.247 | 0.227 |\n",
    "| 50000\t| 0.342\t| 0.305\t| 0.142\t| 0.297\t| 0.230\t| 0.234 | 0.234 |\n",
    "| 100000| 0.591\t| 0.251\t| 0.180\t| 0.589\t| 0.293\t| 0.253 | 0.228 |\n",
    "| 200000| 2.042\t| 0.257\t| 0.180\t| 1.863\t| 0.203\t| 0.268\t| 0.229\t|\n",
    "'''"
   ]
  }
 ],
 "metadata": {
  "kernelspec": {
   "display_name": "Python 3 (ipykernel)",
   "language": "python",
   "name": "python3"
  },
  "language_info": {
   "codemirror_mode": {
    "name": "ipython",
    "version": 3
   },
   "file_extension": ".py",
   "mimetype": "text/x-python",
   "name": "python",
   "nbconvert_exporter": "python",
   "pygments_lexer": "ipython3",
   "version": "3.9.7"
  }
 },
 "nbformat": 4,
 "nbformat_minor": 5
}
